{
 "cells": [
  {
   "cell_type": "markdown",
   "id": "54a0bde0",
   "metadata": {},
   "source": [
    "print(\"hello, world!\")\n"
   ]
  },
  {
   "cell_type": "code",
   "execution_count": 2,
   "id": "d5ddb63a",
   "metadata": {},
   "outputs": [
    {
     "name": "stdout",
     "output_type": "stream",
     "text": [
      "miriam\n"
     ]
    }
   ],
   "source": [
    "print(\"miriam\")"
   ]
  },
  {
   "cell_type": "code",
   "execution_count": 3,
   "id": "b2a161a2",
   "metadata": {},
   "outputs": [
    {
     "name": "stdout",
     "output_type": "stream",
     "text": [
      "5/6/2023\n"
     ]
    }
   ],
   "source": [
    "print(\"5/6/2023\")"
   ]
  },
  {
   "cell_type": "code",
   "execution_count": 4,
   "id": "5a324bd8",
   "metadata": {},
   "outputs": [],
   "source": [
    "#creating a function that returns the VAT of a given cost\n",
    "def calculate_vat(cost):   \n",
    "    vat= cost* (16/100)\n",
    "    return vat      "
   ]
  },
  {
   "cell_type": "code",
   "execution_count": 5,
   "id": "267a5719",
   "metadata": {},
   "outputs": [
    {
     "data": {
      "text/plain": [
       "16.0"
      ]
     },
     "execution_count": 5,
     "metadata": {},
     "output_type": "execute_result"
    }
   ],
   "source": [
    "calculate_vat(100)"
   ]
  },
  {
   "cell_type": "code",
   "execution_count": 6,
   "id": "37f6648c",
   "metadata": {},
   "outputs": [
    {
     "data": {
      "text/plain": [
       "112.0"
      ]
     },
     "execution_count": 6,
     "metadata": {},
     "output_type": "execute_result"
    }
   ],
   "source": [
    "calculate_vat(700)"
   ]
  },
  {
   "cell_type": "code",
   "execution_count": 7,
   "id": "913553f6",
   "metadata": {},
   "outputs": [
    {
     "data": {
      "text/plain": [
       "12.0"
      ]
     },
     "execution_count": 7,
     "metadata": {},
     "output_type": "execute_result"
    }
   ],
   "source": [
    "calculate_vat(75)"
   ]
  },
  {
   "cell_type": "markdown",
   "id": "c8e5e06b",
   "metadata": {},
   "source": [
    "Say you are helping a friend to calculate their weekly paycheck after taxes.\n",
    "\n",
    "They're in a 12% tax bracket (in other words, 12% of their salary is taken for taxes, and they only take home 88%), and\n",
    "They're paid hourly, at a rate of $15/hour.\n",
    "The function below calculates the paycheck based on the number of hours worked. The function is more complicated than with the first example, because the function has more lines of code and comments.\n",
    "Say you are helping a friend to calculate their weekly paycheck after taxes.\n",
    "\n",
    "They're in a 12% tax bracket (in other words, 12% of their salary is taken for taxes, and they only take home 88%), and\n",
    "They're paid hourly, at a rate of $15/hour."
   ]
  },
  {
   "cell_type": "code",
   "execution_count": 8,
   "id": "f2b9b636",
   "metadata": {},
   "outputs": [],
   "source": [
    "def calculate_net_pay(number_of_hours):\n",
    "    total_pay=number_of_hours*15\n",
    "    return total_pay*(88/100)\n",
    "    "
   ]
  },
  {
   "cell_type": "code",
   "execution_count": 9,
   "id": "c74a0f41",
   "metadata": {},
   "outputs": [
    {
     "data": {
      "text/plain": [
       "528.0"
      ]
     },
     "execution_count": 9,
     "metadata": {},
     "output_type": "execute_result"
    }
   ],
   "source": [
    "calculate_net_pay(40)"
   ]
  },
  {
   "cell_type": "code",
   "execution_count": 10,
   "id": "010a7c60",
   "metadata": {},
   "outputs": [
    {
     "data": {
      "text/plain": [
       "1320.0"
      ]
     },
     "execution_count": 10,
     "metadata": {},
     "output_type": "execute_result"
    }
   ],
   "source": [
    "calculate_net_pay(100)"
   ]
  },
  {
   "cell_type": "code",
   "execution_count": 11,
   "id": "4bf5846f",
   "metadata": {},
   "outputs": [],
   "source": [
    "def age(age):\n",
    "    if age>=18:\n",
    "        message=\"adult\"\n",
    "    else:\n",
    "        message=\"child\"\n",
    "    return message"
   ]
  },
  {
   "cell_type": "code",
   "execution_count": 12,
   "id": "54702c57",
   "metadata": {},
   "outputs": [
    {
     "name": "stdout",
     "output_type": "stream",
     "text": [
      "child\n"
     ]
    }
   ],
   "source": [
    "print (age(10))"
   ]
  },
  {
   "cell_type": "code",
   "execution_count": 13,
   "id": "2ac012c7",
   "metadata": {},
   "outputs": [
    {
     "name": "stdout",
     "output_type": "stream",
     "text": [
      "adult\n"
     ]
    }
   ],
   "source": [
    "print (age(28))"
   ]
  },
  {
   "cell_type": "code",
   "execution_count": 14,
   "id": "70cbe3a0",
   "metadata": {},
   "outputs": [
    {
     "name": "stdout",
     "output_type": "stream",
     "text": [
      "adult\n"
     ]
    }
   ],
   "source": [
    "print (age(18))"
   ]
  },
  {
   "cell_type": "code",
   "execution_count": 15,
   "id": "52c3adbb",
   "metadata": {},
   "outputs": [],
   "source": [
    "def time(time):\n",
    "    if time>8:\n",
    "        message=\"late\"\n",
    "    else:\n",
    "        message=\"early\"\n",
    "    return message"
   ]
  },
  {
   "cell_type": "code",
   "execution_count": 16,
   "id": "9addae9f",
   "metadata": {},
   "outputs": [
    {
     "name": "stdout",
     "output_type": "stream",
     "text": [
      "early\n"
     ]
    }
   ],
   "source": [
    "print (time(7))"
   ]
  },
  {
   "cell_type": "code",
   "execution_count": 17,
   "id": "3a192ada",
   "metadata": {},
   "outputs": [
    {
     "name": "stdout",
     "output_type": "stream",
     "text": [
      "late\n"
     ]
    }
   ],
   "source": [
    "print (time(11))"
   ]
  },
  {
   "cell_type": "code",
   "execution_count": 18,
   "id": "4356b20c",
   "metadata": {},
   "outputs": [],
   "source": [
    "#Create a program that takes in a number and returns if a number is either even or odd"
   ]
  },
  {
   "cell_type": "code",
   "execution_count": 24,
   "id": "2c53f906",
   "metadata": {},
   "outputs": [],
   "source": [
    "def number(number):\n",
    "    if number%2==0:\n",
    "        message=\"even\"\n",
    "    else:\n",
    "        message=\"odd\"\n",
    "    return message"
   ]
  },
  {
   "cell_type": "code",
   "execution_count": 25,
   "id": "41a239cf",
   "metadata": {},
   "outputs": [
    {
     "data": {
      "text/plain": [
       "'odd'"
      ]
     },
     "execution_count": 25,
     "metadata": {},
     "output_type": "execute_result"
    }
   ],
   "source": [
    "number(7)"
   ]
  },
  {
   "cell_type": "code",
   "execution_count": 27,
   "id": "1b03eb65",
   "metadata": {},
   "outputs": [
    {
     "data": {
      "text/plain": [
       "'even'"
      ]
     },
     "execution_count": 27,
     "metadata": {},
     "output_type": "execute_result"
    }
   ],
   "source": [
    "number(40)"
   ]
  },
  {
   "cell_type": "code",
   "execution_count": 29,
   "id": "6e586abc",
   "metadata": {},
   "outputs": [
    {
     "data": {
      "text/plain": [
       "'even'"
      ]
     },
     "execution_count": 29,
     "metadata": {},
     "output_type": "execute_result"
    }
   ],
   "source": [
    "number(116)"
   ]
  },
  {
   "cell_type": "code",
   "execution_count": 30,
   "id": "31892cb1",
   "metadata": {},
   "outputs": [
    {
     "data": {
      "text/plain": [
       "'odd'"
      ]
     },
     "execution_count": 30,
     "metadata": {},
     "output_type": "execute_result"
    }
   ],
   "source": [
    "number(2145900234709658399)"
   ]
  },
  {
   "cell_type": "code",
   "execution_count": 31,
   "id": "b99de372",
   "metadata": {},
   "outputs": [
    {
     "data": {
      "text/plain": [
       "'even'"
      ]
     },
     "execution_count": 31,
     "metadata": {},
     "output_type": "execute_result"
    }
   ],
   "source": [
    "number(0)"
   ]
  },
  {
   "cell_type": "code",
   "execution_count": 32,
   "id": "057dbf8d",
   "metadata": {},
   "outputs": [
    {
     "data": {
      "text/plain": [
       "'even'"
      ]
     },
     "execution_count": 32,
     "metadata": {},
     "output_type": "execute_result"
    }
   ],
   "source": [
    "number(-8)"
   ]
  },
  {
   "cell_type": "code",
   "execution_count": 33,
   "id": "6156a6c6",
   "metadata": {},
   "outputs": [
    {
     "data": {
      "text/plain": [
       "'odd'"
      ]
     },
     "execution_count": 33,
     "metadata": {},
     "output_type": "execute_result"
    }
   ],
   "source": [
    "number(-7)"
   ]
  },
  {
   "cell_type": "markdown",
   "id": "0f13a111",
   "metadata": {},
   "source": [
    "Write a Python program that asks the user to enter their annual income and calculates their income tax based on the following tax brackets:\n",
    "\n",
    "Income up to $10,000 is taxed at 10%\n",
    "\n",
    "Income between $10,001 and $50,000 is taxed at 15%\n",
    "\n",
    "Income between $50,001 and $100,000 is taxed at 20%\n",
    "\n",
    "Income above $100,000 is taxed at 25%"
   ]
  },
  {
   "cell_type": "code",
   "execution_count": 3,
   "id": "98f0d62c",
   "metadata": {},
   "outputs": [],
   "source": [
    "def income ():\n",
    "    annual_income = int(input(\"please enter your annual income\"))\n",
    "    if   annual_income>0 and annual_income<=10000:\n",
    "         tax=0.1*annual_income\n",
    "    elif annual_income>10000 and annual_income<=50000:\n",
    "        tax=0.15*annual_income\n",
    "    elif annual_income>50000 and annual_income<=100000:\n",
    "        tax=0.2*annual_income\n",
    "    elif annual_income<=0:\n",
    "        tax=0*annual_income\n",
    "    else:\n",
    "        tax=0.25*annual_income\n",
    "    return tax\n",
    "        "
   ]
  },
  {
   "cell_type": "code",
   "execution_count": 4,
   "id": "0fb1d64c",
   "metadata": {},
   "outputs": [
    {
     "name": "stdout",
     "output_type": "stream",
     "text": [
      "please enter your annual income4000000\n"
     ]
    },
    {
     "data": {
      "text/plain": [
       "1000000.0"
      ]
     },
     "execution_count": 4,
     "metadata": {},
     "output_type": "execute_result"
    }
   ],
   "source": [
    "income()"
   ]
  },
  {
   "cell_type": "code",
   "execution_count": null,
   "id": "14036877",
   "metadata": {},
   "outputs": [],
   "source": []
  },
  {
   "cell_type": "code",
   "execution_count": null,
   "id": "e03b60a1",
   "metadata": {},
   "outputs": [],
   "source": []
  },
  {
   "cell_type": "code",
   "execution_count": null,
   "id": "e4e9ece8",
   "metadata": {},
   "outputs": [],
   "source": []
  },
  {
   "cell_type": "code",
   "execution_count": null,
   "id": "192f43ca",
   "metadata": {},
   "outputs": [],
   "source": []
  },
  {
   "cell_type": "code",
   "execution_count": 46,
   "id": "ed6428e4",
   "metadata": {},
   "outputs": [],
   "source": [
    "def income (annual_income):\n",
    "    if   annual_income>0 and annual_income<=10000:\n",
    "         tax=0.1*annual_income\n",
    "    elif annual_income>10000 and annual_income<=50000:\n",
    "        tax=0.15*annual_income\n",
    "    elif annual_income>50000 and annual_income<=100000:\n",
    "        tax=0.2*annual_income\n",
    "    elif annual_income<=0:\n",
    "        tax=0*annual_income\n",
    "    else:\n",
    "        tax=0.25*annual_income\n",
    "    return tax\n",
    "        "
   ]
  },
  {
   "cell_type": "code",
   "execution_count": 47,
   "id": "b4ca5737",
   "metadata": {},
   "outputs": [
    {
     "data": {
      "text/plain": [
       "250000.75"
      ]
     },
     "execution_count": 47,
     "metadata": {},
     "output_type": "execute_result"
    }
   ],
   "source": [
    "income(1000003)"
   ]
  },
  {
   "cell_type": "code",
   "execution_count": 38,
   "id": "74a6fdea",
   "metadata": {},
   "outputs": [
    {
     "data": {
      "text/plain": [
       "7425.0"
      ]
     },
     "execution_count": 38,
     "metadata": {},
     "output_type": "execute_result"
    }
   ],
   "source": [
    "income(49500)"
   ]
  },
  {
   "cell_type": "code",
   "execution_count": 50,
   "id": "4b780db4",
   "metadata": {},
   "outputs": [
    {
     "data": {
      "text/plain": [
       "1.0"
      ]
     },
     "execution_count": 50,
     "metadata": {},
     "output_type": "execute_result"
    }
   ],
   "source": [
    "income(10)"
   ]
  },
  {
   "cell_type": "code",
   "execution_count": 48,
   "id": "afa0efaf",
   "metadata": {},
   "outputs": [
    {
     "data": {
      "text/plain": [
       "0"
      ]
     },
     "execution_count": 48,
     "metadata": {},
     "output_type": "execute_result"
    }
   ],
   "source": [
    "income(-7)"
   ]
  },
  {
   "cell_type": "code",
   "execution_count": 49,
   "id": "3db4e38c",
   "metadata": {},
   "outputs": [
    {
     "data": {
      "text/plain": [
       "0"
      ]
     },
     "execution_count": 49,
     "metadata": {},
     "output_type": "execute_result"
    }
   ],
   "source": [
    "income(-11000)"
   ]
  },
  {
   "cell_type": "markdown",
   "id": "421e37a3",
   "metadata": {},
   "source": [
    "Write a Python program that asks the user to enter a range of years (start year and end year) and determines the number of leap years within that range"
   ]
  },
  {
   "cell_type": "code",
   "execution_count": null,
   "id": "7ca5e52a",
   "metadata": {},
   "outputs": [],
   "source": [
    "# Challenge 2\n",
    "# In a particular company, taxi fares consist of a base fare of Ksh.200, \n",
    "# plus Ksh.25 for every 140 meters traveled. \n",
    "# Write a function that takes the distance traveled (in kilometers) \n",
    "# as its only parameter and returns the total fare as its only result.\n",
    "#\n"
   ]
  },
  {
   "cell_type": "code",
   "execution_count": 8,
   "id": "0c131e25",
   "metadata": {},
   "outputs": [],
   "source": [
    "def total_fare(distance):\n",
    "    total_fare=200+(25*(distance//0.14))\n",
    "    return total_fare"
   ]
  },
  {
   "cell_type": "code",
   "execution_count": 10,
   "id": "360584fc",
   "metadata": {},
   "outputs": [
    {
     "data": {
      "text/plain": [
       "1975.0"
      ]
     },
     "execution_count": 10,
     "metadata": {},
     "output_type": "execute_result"
    }
   ],
   "source": [
    "total_fare(10)"
   ]
  },
  {
   "cell_type": "code",
   "execution_count": 11,
   "id": "c64cf02b",
   "metadata": {},
   "outputs": [
    {
     "data": {
      "text/plain": [
       "1075.0"
      ]
     },
     "execution_count": 11,
     "metadata": {},
     "output_type": "execute_result"
    }
   ],
   "source": [
    "total_fare(5)"
   ]
  },
  {
   "cell_type": "code",
   "execution_count": 1,
   "id": "37c24c24",
   "metadata": {},
   "outputs": [],
   "source": [
    "fruits=['mango','orange','banana','avocado','pineapple']"
   ]
  },
  {
   "cell_type": "code",
   "execution_count": 3,
   "id": "1ec9b42a",
   "metadata": {},
   "outputs": [],
   "source": [
    "fruits.append(\"grapes\")"
   ]
  },
  {
   "cell_type": "code",
   "execution_count": 4,
   "id": "f29789bd",
   "metadata": {},
   "outputs": [
    {
     "name": "stdout",
     "output_type": "stream",
     "text": [
      "['mango', 'orange', 'banana', 'avocado', 'pineapple', 'grapes', 'grapes']\n"
     ]
    }
   ],
   "source": [
    "print(fruits)"
   ]
  },
  {
   "cell_type": "code",
   "execution_count": 8,
   "id": "e98b54b8",
   "metadata": {},
   "outputs": [
    {
     "data": {
      "text/plain": [
       "['grapes']"
      ]
     },
     "execution_count": 8,
     "metadata": {},
     "output_type": "execute_result"
    }
   ],
   "source": [
    "fruits[-1:]"
   ]
  },
  {
   "cell_type": "code",
   "execution_count": 7,
   "id": "f9de5253",
   "metadata": {},
   "outputs": [
    {
     "name": "stdout",
     "output_type": "stream",
     "text": [
      "['mango', 'orange', 'banana', 'avocado', 'pineapple', 'grapes', 'grapes']\n"
     ]
    }
   ],
   "source": [
    "print(fruits)"
   ]
  },
  {
   "cell_type": "code",
   "execution_count": 9,
   "id": "fc5a45b8",
   "metadata": {},
   "outputs": [],
   "source": [
    "fruits.remove(\"grapes\")"
   ]
  },
  {
   "cell_type": "code",
   "execution_count": 10,
   "id": "5239db0e",
   "metadata": {},
   "outputs": [
    {
     "name": "stdout",
     "output_type": "stream",
     "text": [
      "['mango', 'orange', 'banana', 'avocado', 'pineapple', 'grapes']\n"
     ]
    }
   ],
   "source": [
    "print(fruits)"
   ]
  },
  {
   "cell_type": "code",
   "execution_count": 12,
   "id": "47f94b10",
   "metadata": {},
   "outputs": [
    {
     "data": {
      "text/plain": [
       "'pineapple'"
      ]
     },
     "execution_count": 12,
     "metadata": {},
     "output_type": "execute_result"
    }
   ],
   "source": [
    "fruits.pop(4)"
   ]
  },
  {
   "cell_type": "code",
   "execution_count": 13,
   "id": "7233e338",
   "metadata": {},
   "outputs": [
    {
     "name": "stdout",
     "output_type": "stream",
     "text": [
      "['mango', 'orange', 'banana', 'avocado', 'grapes']\n"
     ]
    }
   ],
   "source": [
    "print(fruits)"
   ]
  },
  {
   "cell_type": "code",
   "execution_count": 14,
   "id": "93e3619e",
   "metadata": {},
   "outputs": [],
   "source": [
    "fruits[3]=\"kiwi\""
   ]
  },
  {
   "cell_type": "code",
   "execution_count": 15,
   "id": "7df4ba75",
   "metadata": {},
   "outputs": [
    {
     "name": "stdout",
     "output_type": "stream",
     "text": [
      "['mango', 'orange', 'banana', 'kiwi', 'grapes']\n"
     ]
    }
   ],
   "source": [
    "print(fruits)"
   ]
  },
  {
   "cell_type": "code",
   "execution_count": 16,
   "id": "e866ba1c",
   "metadata": {},
   "outputs": [
    {
     "data": {
      "text/plain": [
       "['banana', 'grapes', 'kiwi', 'mango', 'orange']"
      ]
     },
     "execution_count": 16,
     "metadata": {},
     "output_type": "execute_result"
    }
   ],
   "source": [
    "sorted(fruits)"
   ]
  },
  {
   "cell_type": "code",
   "execution_count": 17,
   "id": "a5a30b12",
   "metadata": {},
   "outputs": [],
   "source": [
    "prices=[1500,5000,10000,17000,45000,50000]"
   ]
  },
  {
   "cell_type": "code",
   "execution_count": 18,
   "id": "3ac4aa1b",
   "metadata": {},
   "outputs": [
    {
     "data": {
      "text/plain": [
       "128500"
      ]
     },
     "execution_count": 18,
     "metadata": {},
     "output_type": "execute_result"
    }
   ],
   "source": [
    "sum(prices)"
   ]
  },
  {
   "cell_type": "code",
   "execution_count": 23,
   "id": "b9897104",
   "metadata": {},
   "outputs": [],
   "source": [
    "average=sum(prices)/len(prices)"
   ]
  },
  {
   "cell_type": "code",
   "execution_count": 24,
   "id": "b51b8bb4",
   "metadata": {},
   "outputs": [
    {
     "name": "stdout",
     "output_type": "stream",
     "text": [
      "21416.666666666668\n"
     ]
    }
   ],
   "source": [
    "print(average)"
   ]
  },
  {
   "cell_type": "code",
   "execution_count": 25,
   "id": "09d298b5",
   "metadata": {},
   "outputs": [
    {
     "data": {
      "text/plain": [
       "50000"
      ]
     },
     "execution_count": 25,
     "metadata": {},
     "output_type": "execute_result"
    }
   ],
   "source": [
    "max(prices)"
   ]
  },
  {
   "cell_type": "code",
   "execution_count": 26,
   "id": "fba3b265",
   "metadata": {},
   "outputs": [
    {
     "data": {
      "text/plain": [
       "1500"
      ]
     },
     "execution_count": 26,
     "metadata": {},
     "output_type": "execute_result"
    }
   ],
   "source": [
    "min(prices)"
   ]
  },
  {
   "cell_type": "code",
   "execution_count": 2,
   "id": "dddb86d0",
   "metadata": {},
   "outputs": [
    {
     "name": "stdout",
     "output_type": "stream",
     "text": [
      "kisii busia narok kitale malindi "
     ]
    }
   ],
   "source": [
    "#Create a list of five towns in Kenya\n",
    "towns=[\"kisii\",\"busia\",\"narok\",\"kitale\",\"malindi\"]\n",
    "for town in towns:\n",
    "    print(town,end=\" \")"
   ]
  },
  {
   "cell_type": "code",
   "execution_count": 3,
   "id": "ce99a69b",
   "metadata": {},
   "outputs": [
    {
     "name": "stdout",
     "output_type": "stream",
     "text": [
      "5\n",
      "9\n",
      "10\n",
      "6\n",
      "7\n",
      "8\n"
     ]
    }
   ],
   "source": [
    "#create a for loop that adds 3 to each number in this list and prints out the final value\n",
    "numbers=[2,6,7,3,4,5]\n",
    "for number in numbers:\n",
    "    print(number+3)"
   ]
  },
  {
   "cell_type": "code",
   "execution_count": 2,
   "id": "b1f01b5e",
   "metadata": {},
   "outputs": [
    {
     "name": "stdout",
     "output_type": "stream",
     "text": [
      "1\n",
      "2\n",
      "4\n",
      "5\n",
      "6\n"
     ]
    }
   ],
   "source": [
    "for i in range(1,7):\n",
    "    if i==3:\n",
    "        continue\n",
    "    print(i)\n"
   ]
  },
  {
   "cell_type": "code",
   "execution_count": 1,
   "id": "52a6371e",
   "metadata": {},
   "outputs": [
    {
     "name": "stdout",
     "output_type": "stream",
     "text": [
      "1\n",
      "2\n"
     ]
    }
   ],
   "source": [
    "for i in range(1,7):\n",
    "    if i==3:\n",
    "        break\n",
    "    print(i)"
   ]
  },
  {
   "cell_type": "markdown",
   "id": "f26cccf4",
   "metadata": {},
   "source": [
    "#You are given a list of integers called numbers_list. Write a Python function called filter_even_numbers that takes this list as input and returns a new list containing only the even numbers from the original list. Use a loop to iterate through the numbers_list and implement the filtering logic inside the loop. Remember to handle any necessary steps to ensure the function behaves correctly when called with different inputs."
   ]
  },
  {
   "cell_type": "code",
   "execution_count": 6,
   "id": "a7aa7188",
   "metadata": {},
   "outputs": [],
   "source": [
    "numbers_list=[1,2,3,4,5,6,7,8,9]\n",
    "def filter_even_numbers(numbers_list):\n",
    "    even_list=[]\n",
    "    for i in numbers_list:\n",
    "        if i%2==0:\n",
    "            even_list.append(i)\n",
    "    return even_list\n",
    "    "
   ]
  },
  {
   "cell_type": "code",
   "execution_count": 7,
   "id": "7e8e43d1",
   "metadata": {},
   "outputs": [
    {
     "data": {
      "text/plain": [
       "[2, 4, 6, 8]"
      ]
     },
     "execution_count": 7,
     "metadata": {},
     "output_type": "execute_result"
    }
   ],
   "source": [
    "filter_even_numbers(numbers_list)"
   ]
  },
  {
   "cell_type": "code",
   "execution_count": 4,
   "id": "e3fb8d8d",
   "metadata": {},
   "outputs": [],
   "source": [
    "#Calculate the number of seconds in a year\n",
    "def seconds_in_year(year):\n",
    "    if year%4==0:\n",
    "        return 366*24*60*60\n",
    "    else:\n",
    "        return 365*24*60*60\n",
    "    "
   ]
  },
  {
   "cell_type": "code",
   "execution_count": 5,
   "id": "43b37567",
   "metadata": {},
   "outputs": [
    {
     "data": {
      "text/plain": [
       "31536000"
      ]
     },
     "execution_count": 5,
     "metadata": {},
     "output_type": "execute_result"
    }
   ],
   "source": [
    "seconds_in_year(2023)"
   ]
  },
  {
   "cell_type": "code",
   "execution_count": 6,
   "id": "ca95e36c",
   "metadata": {},
   "outputs": [
    {
     "data": {
      "text/plain": [
       "31622400"
      ]
     },
     "execution_count": 6,
     "metadata": {},
     "output_type": "execute_result"
    }
   ],
   "source": [
    "seconds_in_year(2024)"
   ]
  },
  {
   "cell_type": "code",
   "execution_count": null,
   "id": "5bd94888",
   "metadata": {},
   "outputs": [],
   "source": []
  },
  {
   "cell_type": "code",
   "execution_count": null,
   "id": "773a6aaf",
   "metadata": {},
   "outputs": [],
   "source": []
  },
  {
   "cell_type": "code",
   "execution_count": null,
   "id": "3596510b",
   "metadata": {},
   "outputs": [],
   "source": []
  },
  {
   "cell_type": "code",
   "execution_count": 7,
   "id": "1745d6ea",
   "metadata": {},
   "outputs": [
    {
     "ename": "TypeError",
     "evalue": "'int' object is not callable",
     "output_type": "error",
     "traceback": [
      "\u001b[1;31m---------------------------------------------------------------------------\u001b[0m",
      "\u001b[1;31mTypeError\u001b[0m                                 Traceback (most recent call last)",
      "Cell \u001b[1;32mIn[7], line 1\u001b[0m\n\u001b[1;32m----> 1\u001b[0m \u001b[43myear\u001b[49m\u001b[43m(\u001b[49m\u001b[38;5;241;43m2023\u001b[39;49m\u001b[43m)\u001b[49m\n",
      "\u001b[1;31mTypeError\u001b[0m: 'int' object is not callable"
     ]
    }
   ],
   "source": []
  },
  {
   "cell_type": "code",
   "execution_count": null,
   "id": "bb37fe3d",
   "metadata": {},
   "outputs": [],
   "source": []
  },
  {
   "cell_type": "code",
   "execution_count": null,
   "id": "7fd20076",
   "metadata": {},
   "outputs": [],
   "source": []
  },
  {
   "cell_type": "code",
   "execution_count": null,
   "id": "c2ae5428",
   "metadata": {},
   "outputs": [],
   "source": []
  },
  {
   "cell_type": "code",
   "execution_count": null,
   "id": "89587a53",
   "metadata": {},
   "outputs": [],
   "source": []
  },
  {
   "cell_type": "code",
   "execution_count": null,
   "id": "e1d34e8d",
   "metadata": {},
   "outputs": [],
   "source": []
  },
  {
   "cell_type": "code",
   "execution_count": null,
   "id": "a0d60ff4",
   "metadata": {},
   "outputs": [],
   "source": []
  }
 ],
 "metadata": {
  "kernelspec": {
   "display_name": "Python 3 (ipykernel)",
   "language": "python",
   "name": "python3"
  },
  "language_info": {
   "codemirror_mode": {
    "name": "ipython",
    "version": 3
   },
   "file_extension": ".py",
   "mimetype": "text/x-python",
   "name": "python",
   "nbconvert_exporter": "python",
   "pygments_lexer": "ipython3",
   "version": "3.10.9"
  }
 },
 "nbformat": 4,
 "nbformat_minor": 5
}
